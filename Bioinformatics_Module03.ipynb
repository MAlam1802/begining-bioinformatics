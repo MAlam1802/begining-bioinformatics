{
  "nbformat": 4,
  "nbformat_minor": 0,
  "metadata": {
    "colab": {
      "provenance": [],
      "authorship_tag": "ABX9TyOKw+H6Kw89JgEv0otkvopp",
      "include_colab_link": true
    },
    "kernelspec": {
      "name": "python3",
      "display_name": "Python 3"
    },
    "language_info": {
      "name": "python"
    }
  },
  "cells": [
    {
      "cell_type": "markdown",
      "metadata": {
        "id": "view-in-github",
        "colab_type": "text"
      },
      "source": [
        "<a href=\"https://colab.research.google.com/github/MAlam1802/begining-bioinformatics/blob/main/Bioinformatics_Module03.ipynb\" target=\"_parent\"><img src=\"https://colab.research.google.com/assets/colab-badge.svg\" alt=\"Open In Colab\"/></a>"
      ]
    },
    {
      "cell_type": "code",
      "execution_count": null,
      "metadata": {
        "colab": {
          "base_uri": "https://localhost:8080/"
        },
        "id": "Tx0Wyz--FqJ5",
        "outputId": "f7b16d6d-5e21-46de-a721-b7082e1c205c"
      },
      "outputs": [
        {
          "output_type": "stream",
          "name": "stdout",
          "text": [
            "Hello world\n"
          ]
        }
      ],
      "source": [
        "print (\"Hello world\")"
      ]
    },
    {
      "cell_type": "code",
      "source": [
        "x=10\n",
        "print(x/2)"
      ],
      "metadata": {
        "colab": {
          "base_uri": "https://localhost:8080/"
        },
        "id": "Dn_8YEFRGNfD",
        "outputId": "9283a86d-722f-4ee6-d606-ead80c262383"
      },
      "execution_count": null,
      "outputs": [
        {
          "output_type": "stream",
          "name": "stdout",
          "text": [
            "5.0\n"
          ]
        }
      ]
    },
    {
      "cell_type": "code",
      "source": [
        "a=3\n",
        "b=5\n",
        "c=a**2+b**2\n",
        "c"
      ],
      "metadata": {
        "colab": {
          "base_uri": "https://localhost:8080/"
        },
        "id": "UXyf8zasHvjc",
        "outputId": "0d5d8913-c15a-4c7a-b47f-8232f7d49a13"
      },
      "execution_count": null,
      "outputs": [
        {
          "output_type": "execute_result",
          "data": {
            "text/plain": [
              "34"
            ]
          },
          "metadata": {},
          "execution_count": 2
        }
      ]
    },
    {
      "cell_type": "code",
      "source": [
        "name = input(\"Enter your name: \")\n",
        "print(\"Hello, \" + name)"
      ],
      "metadata": {
        "id": "Bbf1Ya4RNsEd",
        "colab": {
          "base_uri": "https://localhost:8080/"
        },
        "outputId": "31840597-cf9e-4f3f-8330-345ecd57a8ad"
      },
      "execution_count": null,
      "outputs": [
        {
          "output_type": "stream",
          "name": "stdout",
          "text": [
            "Enter your name: Mango\n",
            "Hello, Mango\n"
          ]
        }
      ]
    },
    {
      "cell_type": "code",
      "source": [
        "a = int(input(\"Enter a: \"))\n",
        "b = int(input(\"Enter b: \"))\n",
        "c=a**2+b**2\n",
        "print(c)"
      ],
      "metadata": {
        "colab": {
          "base_uri": "https://localhost:8080/"
        },
        "id": "AaIINvNIQjEl",
        "outputId": "ebfbdb58-3c5d-4f25-ccb8-ba2004ccf4a9"
      },
      "execution_count": null,
      "outputs": [
        {
          "output_type": "stream",
          "name": "stdout",
          "text": [
            "Enter a: 944\n",
            "Enter b: 967\n",
            "1826225\n"
          ]
        }
      ]
    },
    {
      "cell_type": "code",
      "source": [
        "#create a list with 3 elements and print them\n",
        "my_list = [\"Hello\", \"World\",\"Charles Darwin\"]\n",
        "\n",
        "#substituting an item at index 2 on the list\n",
        "my_list[2] = \"Alfred R. Wallace\"\n",
        "print (my_list)"
      ],
      "metadata": {
        "colab": {
          "base_uri": "https://localhost:8080/"
        },
        "id": "v9RfmUEYQfwX",
        "outputId": "7b899088-9d16-4687-ea8f-d052b8248d2f"
      },
      "execution_count": null,
      "outputs": [
        {
          "output_type": "stream",
          "name": "stdout",
          "text": [
            "['Hello', 'World', 'Alfred R. Wallace']\n"
          ]
        }
      ]
    },
    {
      "cell_type": "code",
      "source": [
        "#append an item to the end of the list\n",
        "my_list.append(\"Charles Darwin\")\n",
        "print (my_list)"
      ],
      "metadata": {
        "colab": {
          "base_uri": "https://localhost:8080/"
        },
        "id": "9F5HTXXxkIBV",
        "outputId": "e8967acd-e98d-467a-e10d-33e16c71a24c"
      },
      "execution_count": null,
      "outputs": [
        {
          "output_type": "stream",
          "name": "stdout",
          "text": [
            "['Hello', 'World', 'Alfred R. Wallace', 'Charles Darwin']\n"
          ]
        }
      ]
    },
    {
      "cell_type": "code",
      "source": [
        "print(my_list[2:4])"
      ],
      "metadata": {
        "colab": {
          "base_uri": "https://localhost:8080/"
        },
        "id": "7P9-vuCFnije",
        "outputId": "e562b050-fb15-4384-cf2a-88ea258964bc"
      },
      "execution_count": null,
      "outputs": [
        {
          "output_type": "stream",
          "name": "stdout",
          "text": [
            "['Alfred R. Wallace', 'Charles Darwin']\n"
          ]
        }
      ]
    },
    {
      "cell_type": "code",
      "source": [
        "my_string = \"HelloWorldCharlesDarwinAlfredRWallace\"\n",
        "print(my_string[0:5], my_string[5:10])"
      ],
      "metadata": {
        "id": "V6ey2UU3o-nI",
        "colab": {
          "base_uri": "https://localhost:8080/"
        },
        "outputId": "a845465f-9c3b-45b6-9248-2cd2579da031"
      },
      "execution_count": null,
      "outputs": [
        {
          "output_type": "stream",
          "name": "stdout",
          "text": [
            "Hello World\n"
          ]
        }
      ]
    },
    {
      "cell_type": "code",
      "source": [
        "print(my_string[30:37], my_string[5:10])"
      ],
      "metadata": {
        "colab": {
          "base_uri": "https://localhost:8080/"
        },
        "id": "Hg1DFalrygDn",
        "outputId": "657f93e0-09b8-447f-e6ef-872306d5d354"
      },
      "execution_count": null,
      "outputs": [
        {
          "output_type": "stream",
          "name": "stdout",
          "text": [
            "Wallace World\n"
          ]
        }
      ]
    },
    {
      "cell_type": "code",
      "source": [
        "my_string_1 = \"cyh6hsVrrQw0AaEg2xLB9XL2RX9Lvl75umkbPAcipensergnNqVQQhFZi00bg683lwRVl5TcvsFICzmrbkq3RXfrSbo4C0Fzn67kTQNINo299nvAXkTQkWQXBWXsavigniii2K28n0VaJTATRixpJzhtYb6fKBR6GFZ.\"\n",
        "print(my_string_1[37:46], my_string_1[123:131])"
      ],
      "metadata": {
        "colab": {
          "base_uri": "https://localhost:8080/"
        },
        "id": "WysYCVvEzWbR",
        "outputId": "4d295c55-70a0-4b40-d72e-76da48750761"
      },
      "execution_count": null,
      "outputs": [
        {
          "output_type": "stream",
          "name": "stdout",
          "text": [
            "Acipenser savignii\n"
          ]
        }
      ]
    },
    {
      "cell_type": "code",
      "source": [
        "a=5\n",
        "b=5\n",
        "if a!=b:\n",
        "  print(a-b)\n",
        "else:\n",
        "  print(a*b)"
      ],
      "metadata": {
        "colab": {
          "base_uri": "https://localhost:8080/"
        },
        "id": "HOmxiF4ZW28d",
        "outputId": "68269f0a-9d96-42d2-a82c-b7b931111add"
      },
      "execution_count": 3,
      "outputs": [
        {
          "output_type": "stream",
          "name": "stdout",
          "text": [
            "25\n"
          ]
        }
      ]
    },
    {
      "cell_type": "code",
      "source": [
        "# initiating a counter\n",
        "a = 4\n",
        "#print \"counting!\" while a<=3\n",
        "while a <= 3:\n",
        "  print ('Counting!' * a)\n",
        "  #a+=1\n"
      ],
      "metadata": {
        "id": "t-odDMERaJcV"
      },
      "execution_count": 10,
      "outputs": []
    },
    {
      "cell_type": "code",
      "source": [
        "names = [\"Alice\", \"Bob\", \"Charley\"]\n",
        "for name in names:\n",
        "  print (\"Hello\", name)"
      ],
      "metadata": {
        "colab": {
          "base_uri": "https://localhost:8080/"
        },
        "id": "iPV9LKtXbedM",
        "outputId": "c8aeef2b-ae38-48e4-bd59-b51b69ef1421"
      },
      "execution_count": 11,
      "outputs": [
        {
          "output_type": "stream",
          "name": "stdout",
          "text": [
            "Hello Alice\n",
            "Hello Bob\n",
            "Hello Charley\n"
          ]
        }
      ]
    },
    {
      "cell_type": "code",
      "source": [
        "var = [2,3,4]\n",
        "for x in var:\n",
        "  print(x+5)"
      ],
      "metadata": {
        "colab": {
          "base_uri": "https://localhost:8080/"
        },
        "id": "WrGdXsDFdhJ2",
        "outputId": "7e30c159-d511-48e4-ea71-c7a4f720898c"
      },
      "execution_count": 12,
      "outputs": [
        {
          "output_type": "stream",
          "name": "stdout",
          "text": [
            "7\n",
            "8\n",
            "9\n"
          ]
        }
      ]
    },
    {
      "cell_type": "code",
      "source": [
        "# create a variable to define the number of iterations\n",
        "iterations = 10\n",
        "# print the current item's value each time through the loop\n",
        "for number in range(iterations):\n",
        "  print(number+11)\n"
      ],
      "metadata": {
        "colab": {
          "base_uri": "https://localhost:8080/"
        },
        "id": "RWK4PAEoeRvv",
        "outputId": "08745047-a923-46b8-fa18-c5ef6779b451"
      },
      "execution_count": 15,
      "outputs": [
        {
          "output_type": "stream",
          "name": "stdout",
          "text": [
            "11\n",
            "12\n",
            "13\n",
            "14\n",
            "15\n",
            "16\n",
            "17\n",
            "18\n",
            "19\n",
            "20\n"
          ]
        }
      ]
    },
    {
      "cell_type": "code",
      "metadata": {
        "colab": {
          "base_uri": "https://localhost:8080/"
        },
        "id": "e206a89b",
        "outputId": "91738f35-a351-4e9a-cdee-cfba3c9375c9"
      },
      "source": [
        "a=4477\n",
        "b=8930\n",
        "odd_numbers_in_range = [num for num in range(a, b + 1) if num % 2 != 0]\n",
        "print(sum(odd_numbers_in_range))"
      ],
      "execution_count": 18,
      "outputs": [
        {
          "output_type": "stream",
          "name": "stdout",
          "text": [
            "14927581\n"
          ]
        }
      ]
    },
    {
      "cell_type": "code",
      "source": [],
      "metadata": {
        "id": "n8amAoLmmbCT"
      },
      "execution_count": null,
      "outputs": []
    }
  ]
}